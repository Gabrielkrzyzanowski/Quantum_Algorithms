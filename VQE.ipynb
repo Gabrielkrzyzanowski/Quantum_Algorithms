{
 "cells": [
  {
   "cell_type": "code",
   "execution_count": 1,
   "id": "b07f9f1b",
   "metadata": {},
   "outputs": [],
   "source": [
    "import numpy as np\n",
    "from qiskit import Aer, execute, BasicAer\n",
    "from scipy.optimize import minimize \n",
    "from qiskit import QuantumCircuit, ClassicalRegister, QuantumRegister \n",
    "import pennylane as qml \n",
    "shots=1024\n",
    "%matplotlib inline "
   ]
  },
  {
   "cell_type": "code",
   "execution_count": 2,
   "id": "4e3632a0",
   "metadata": {},
   "outputs": [],
   "source": [
    "def Ansatz(num_qubits, reps, param):\n",
    "    \"\"\"\"\"\n",
    "    Create the parametrized circuit using a set of parameters and Ry gates\n",
    "\n",
    "    ---- Arguments\n",
    "    num_qubits: (int) Number of qubits (Related to the size of your hamiltonian)\n",
    "    reps: (int) Depht of your ansatz\n",
    "    param: (list) Set of angles used in the rotation gates\n",
    "\n",
    "    ---- Return\n",
    "    circuit: (QuantumCircuit) Returns a quantum circuit with the gates creating the trial state\n",
    "\n",
    "    \"\"\"\n",
    "    \n",
    "    circuit=QuantumCircuit(num_qubits) \n",
    "    \n",
    "    for irep in range(reps): \n",
    "        for i in range(num_qubits): \n",
    "            circuit.ry(param[i+irep*num_qubits],i)\n",
    "        if irep < reps-1: \n",
    "            for j in range(num_qubits-1):\n",
    "                circuit.cx(j,j+1)\n",
    "            circuit.cx(num_qubits-1,0)\n",
    "    circuit.barrier()\n",
    "    #circuit.measure(range(num_qubits), range(num_qubits))      \n",
    "    return circuit  \n",
    "\n",
    "def get_probabilities(counts,shots):  ##########\n",
    "    prob= {}\n",
    "    for result,i in counts.items(): \n",
    "        prob[result]= i/shots \n",
    "    return prob    \n",
    "\n",
    "def checker(counts): \n",
    "    if '00' not in counts:\n",
    "        counts['00'] = 0\n",
    "    if '01' not in counts:\n",
    "        counts['01'] = 0\n",
    "    if '10' not in counts:\n",
    "        counts['10'] = 0\n",
    "    if '11' not in counts:\n",
    "        counts['11'] = 0\n",
    "    return counts\n",
    "\n",
    "def get_expectation(parameters, reps): #Change it to build a circuit for operator \n",
    "    \n",
    "    expectation={}\n",
    "    \n",
    "    strings = ['00','01','10','11'] \n",
    "\n",
    "    for i in range(6):\n",
    "\n",
    "        if i==0:\n",
    "            circuit = Ansatz(num_qubits, reps, parameters)\n",
    "            circuit.measure_all()\n",
    "            counts= execute(circuit, backend, shots=shots).result().get_counts(circuit) \n",
    "            counts= checker(counts)\n",
    "            #prob=get_probabilities(counts,shots) \n",
    "            expectation[i] = g0*(counts['00'] + counts['11'] + counts['01'] + counts['10'] / shots)\n",
    "        if i==1:\n",
    "            circuit = Ansatz(num_qubits, reps, parameters)\n",
    "            circuit1=QuantumCircuit(num_qubits)\n",
    "            circuit1.z(1)\n",
    "            circuit.compose(circuit1, qubits=[0,1], inplace=True)\n",
    "            circuit.measure_all()\n",
    "            counts= execute(circuit, backend, shots=shots).result().get_counts(circuit) \n",
    "            counts= checker(counts)\n",
    "            #prob=get_probabilities(counts,shots) \n",
    "            expectation[i] = g1*(counts['00'] - counts['11'] + counts['01'] - counts['10'] / shots)\n",
    "        if i==2:\n",
    "            circuit = Ansatz(num_qubits, reps, parameters)\n",
    "            circuit2=QuantumCircuit(num_qubits)\n",
    "            circuit2.z(0)\n",
    "            circuit.compose(circuit2, qubits=[0,1], inplace=True)\n",
    "            circuit.measure_all()\n",
    "            counts= execute(circuit, backend, shots=shots).result().get_counts(circuit) \n",
    "            counts= checker(counts)\n",
    "            #prob=get_probabilities(counts,shots) \n",
    "            expectation[i] = g2*(counts['00'] - counts['11'] + counts['01'] + counts['10'] / shots)\n",
    "        if i==3:\n",
    "            circuit = Ansatz(num_qubits, reps, parameters)\n",
    "            circuit3=QuantumCircuit(num_qubits)\n",
    "            circuit3.z(1)\n",
    "            circuit3.z(0)\n",
    "            circuit.compose(circuit3, qubits=[0,1], inplace=True)\n",
    "            circuit.measure_all()\n",
    "            counts= execute(circuit, backend, shots=shots).result().get_counts(circuit)\n",
    "            counts= checker(counts) \n",
    "            #prob=get_probabilities(counts,shots) \n",
    "            expectation[i] = g3*(counts['00'] - counts['11'] - counts['01'] - counts['10'] / shots)\n",
    "        if i==4:\n",
    "            circuit = Ansatz(num_qubits, reps, parameters)\n",
    "            circuit4=QuantumCircuit(num_qubits)\n",
    "            circuit4.h(1)\n",
    "            circuit4.sdg(1)\n",
    "            circuit4.h(1)\n",
    "            circuit4.h(0)\n",
    "            circuit4.sdg(0)\n",
    "            circuit4.h(0)\n",
    "            circuit.compose(circuit4, qubits=[0,1], inplace=True)\n",
    "            circuit.measure_all()\n",
    "            counts= execute(circuit, backend, shots=shots).result().get_counts(circuit) \n",
    "            counts= checker(counts)\n",
    "            #prob=get_probabilities(counts,shots) \n",
    "            expectation[i] = g4*(counts['00'] + counts['11'] - counts['01'] - counts['10'] / shots)\n",
    "        if i==5:\n",
    "            circuit = Ansatz(num_qubits, reps, parameters)\n",
    "            circuit5=QuantumCircuit(num_qubits)\n",
    "            circuit5.h(1)\n",
    "            circuit5.z(1)\n",
    "            circuit5.h(1)\n",
    "            circuit5.h(0)\n",
    "            circuit5.z(0)\n",
    "            circuit5.h(0)\n",
    "            circuit.compose(circuit5, qubits=[0,1], inplace=True)\n",
    "            circuit.measure_all()\n",
    "            counts= execute(circuit, backend, shots=shots).result().get_counts(circuit) \n",
    "            counts= checker(counts)\n",
    "            #prob=get_probabilities(counts,shots) \n",
    "            expectation[i] = g5*(counts['00'] - counts['11'] - counts['01'] - counts['10'] / shots)\n",
    "\n",
    "    return  sum(expectation.values())\n",
    "\n",
    "def execute_VQE(num_qubits, reps,list_coef, shots=shots): #Function that I'll minimize \n",
    "    \n",
    "    backend = BasicAer.get_backend('qasm_simulator')\n",
    "    \n",
    "    def execute_circ(parameters, reps=reps):\n",
    "        return get_expectation(parameters,reps)\n",
    "    \n",
    "    return execute_circ"
   ]
  },
  {
   "cell_type": "code",
   "execution_count": 11,
   "id": "8f8f7821",
   "metadata": {},
   "outputs": [
    {
     "name": "stdout",
     "output_type": "stream",
     "text": [
      "{'00': 1024}\n"
     ]
    },
    {
     "data": {
      "image/png": "[encoded data removed]",
      "text/plain": [
       "<Figure size 598.479x204.68 with 1 Axes>"
      ]
     },
     "execution_count": 11,
     "metadata": {},
     "output_type": "execute_result"
    }
   ],
   "source": [
    "circuit=Ansatz(num_qubits=2, reps=2,param =  [0,0,0,0])\n",
    "circuit.measure_all()\n",
    "backend = BasicAer.get_backend('qasm_simulator')\n",
    "counts = execute(circuit, backend, shots=shots).result().get_counts(circuit)\n",
    "\n",
    "print(counts)\n",
    "circuit.draw('mpl') "
   ]
  },
  {
   "cell_type": "code",
   "execution_count": 100,
   "id": "000cf631",
   "metadata": {},
   "outputs": [],
   "source": [
    "#Setting up the Hamiltonian\n",
    "from qiskit.opflow import X, Z, I, Y\n",
    "\n",
    "g0 = -0.4804\n",
    "g1 = +0.3435\n",
    "g2 = -0.4347\n",
    "g3 = +0.5716\n",
    "g4 = +0.0910\n",
    "g5 = +0.0910 \n",
    "\n",
    "H_mol = (g0*I^I)+(g1*I^Z)+(g2*Z^I)+(g3*Z^Z)+(g4*Y^Y)+(g5*X^X) \n",
    "list_coef=[g0,g1,g2,g3,g4,g5]"
   ]
  },
  {
   "cell_type": "code",
   "execution_count": 106,
   "id": "395e19e1",
   "metadata": {},
   "outputs": [
    {
     "data": {
      "text/plain": [
       "     fun: -1140.8128182617188\n",
       "   maxcv: 0.0\n",
       " message: 'Optimization terminated successfully.'\n",
       "    nfev: 55\n",
       "  status: 1\n",
       " success: True\n",
       "       x: array([1.80755185, 5.08287546, 4.32492265, 5.21437027])"
      ]
     },
     "execution_count": 106,
     "metadata": {},
     "output_type": "execute_result"
    }
   ],
   "source": [
    "num_qubits=2\n",
    "reps=2\n",
    "list_coef = list_coef\n",
    "\n",
    "vqe_run= execute_VQE(num_qubits, reps, list_coef, shots=shots)\n",
    "res=minimize(vqe_run,np.random.uniform(3, np.pi, 4), method=\"COBYLA\") \n",
    "\n",
    "res\n"
   ]
  },
  {
   "cell_type": "code",
   "execution_count": 107,
   "id": "2dd060b0",
   "metadata": {},
   "outputs": [
    {
     "data": {
      "text/plain": [
       "-1121.4409748046876"
      ]
     },
     "execution_count": 107,
     "metadata": {},
     "output_type": "execute_result"
    }
   ],
   "source": [
    "sol= get_expectation([1.80755185, 5.08287546, 4.32492265, 5.21437027], 2) \n",
    "\n",
    "sol"
   ]
  },
  {
   "cell_type": "code",
   "execution_count": 103,
   "id": "5e77a28f",
   "metadata": {},
   "outputs": [
    {
     "name": "stdout",
     "output_type": "stream",
     "text": [
      "  (-0.5) [Z1]\n",
      "+ (-0.5) [Z0]\n",
      "+ (3.0) [I0]\n",
      "+ (-0.5) [X0 X1]\n",
      "+ (-0.5) [Y0 Y1]\n",
      "+ (3.0) [Z0 Z1]\n"
     ]
    }
   ],
   "source": [
    "Ham= np.matrix([[5, 0,0,0], [0,0,-1,0],[0,-1,0,0],[0,0,0,7]])\n",
    "\n",
    "coeffs, obs_list= qml.utils.decompose_hamiltonian(Ham)\n",
    "\n",
    "H=qml.Hamiltonian(coeffs,obs_list,simplify=True) \n",
    "\n",
    "H"
   ]
  },
  {
   "cell_type": "code",
   "execution_count": 110,
   "id": "1906377d",
   "metadata": {},
   "outputs": [
    {
     "data": {
      "image/png": "[encoded data removed]",
      "text/plain": [
       "<Figure size 959.679x204.68 with 1 Axes>"
      ]
     },
     "execution_count": 110,
     "metadata": {},
     "output_type": "execute_result"
    }
   ],
   "source": [
    "num_qubits=2\n",
    "reps=3\n",
    "list_coef = list_coef\n",
    "#strings = ['000','001','010','011','100','101','110','111']\n",
    "strings = ['00','01','10','11']\n",
    "\n",
    "expectation={}\n",
    "\n",
    "circuit = Ansatz(num_qubits, reps,  np.random.uniform(0, np.pi, 6))\n",
    "circuit5=QuantumCircuit(num_qubits)\n",
    "circuit5.h(1)\n",
    "circuit5.z(1)\n",
    "circuit5.h(1)\n",
    "circuit5.h(0)\n",
    "circuit5.z(0)\n",
    "circuit5.h(0)\n",
    "circuit.compose(circuit5, qubits=[0,1], inplace=True)\n",
    "circuit.measure_all()\n",
    "counts= execute(circuit, backend, shots=shots).result().get_counts(circuit) \n",
    "counts= checker(counts)\n",
    "prob=get_probabilities(counts,shots) \n",
    "expectation[0] = g0*(counts['00'] + counts['11'] - counts['01'] - counts['10'] / shots)\n",
    "\n",
    "#counts \n",
    "total_counts, counts, zz \n",
    "\n",
    "circuit.draw('mpl')"
   ]
  },
  {
   "cell_type": "code",
   "execution_count": null,
   "id": "de4c3c74",
   "metadata": {},
   "outputs": [],
   "source": []
  },
  {
   "cell_type": "code",
   "execution_count": null,
   "id": "49d9aa88",
   "metadata": {},
   "outputs": [],
   "source": []
  }
 ],
 "metadata": {
  "kernelspec": {
   "display_name": "Python 3.8.8 ('base')",
   "language": "python",
   "name": "python3"
  },
  "language_info": {
   "codemirror_mode": {
    "name": "ipython",
    "version": 3
   },
   "file_extension": ".py",
   "mimetype": "text/x-python",
   "name": "python",
   "nbconvert_exporter": "python",
   "pygments_lexer": "ipython3",
   "version": "3.8.8"
  },
  "vscode": {
   "interpreter": {
    "hash": "02fbba07d9bfb7050fe807f2288fc3f30b5c5c95150610d8a3a0804f101f127b"
   }
  }
 },
 "nbformat": 4,
 "nbformat_minor": 5
}
