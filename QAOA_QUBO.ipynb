{
 "cells": [
  {
   "attachments": {},
   "cell_type": "markdown",
   "metadata": {},
   "source": [
    "### Solving a QUBO problem using the QAOA Algorithm\n"
   ]
  },
  {
   "cell_type": "code",
   "execution_count": 1,
   "metadata": {},
   "outputs": [],
   "source": [
    "from qiskit import *\n",
    "from qiskit.circuit import Parameter \n",
    "import numpy as np\n",
    "%matplotlib inline\n",
    "import random"
   ]
  },
  {
   "cell_type": "code",
   "execution_count": 18,
   "metadata": {},
   "outputs": [],
   "source": [
    "def create_circuit(theta, variables, permutations): \n",
    "    \"\"\"\n",
    "    ---- Arguments\n",
    "    theta (list): a set of angles that'll work as parametes \n",
    "    variables (dictionary): the existence variables of the qubo problem\n",
    "    permutations (dictionary): all the permutations of the variables related to the problem\n",
    "\n",
    "    \"\"\"\n",
    "    num_qubits=len(variables)\n",
    "    thetas=np.array(theta) \n",
    "    p=thetas.size//2 \n",
    "\n",
    "    circuit=QuantumCircuit(num_qubits)\n",
    "\n",
    "    betta=theta[:p]\n",
    "    gamma=theta[p:] \n",
    "\n",
    "    for i in range(0, num_qubits): #Create the initial superposition \n",
    "        circuit.h(i) \n",
    "\n",
    "    \n",
    "    for irep in range(0,p):\n",
    "        \n",
    "        for i in range(0,num_qubits): ## Adds the Problem Unitary \n",
    "            circuit.rz(gamma[irep],i) \n",
    "            circuit.barrier()\n",
    "        \n",
    "        for n in permutations: ## Adds the Problem Unitary \n",
    "            circuit.rzz(2*gamma[irep],n[0],n[1]) \n",
    "            circuit.barrier() \n",
    "        \n",
    "        for i in range(0,num_qubits): #Apply the mixer operator\n",
    "            circuit.rx(2*betta[irep],i)\n",
    "        \n",
    "        \n",
    "\n",
    "    circuit.measure_all()\n",
    "    return circuit \n",
    "\n",
    "\n",
    "def compute_expectation_value(counts,f):\n",
    "    \n",
    "    avg=0\n",
    "    sum_count=0 \n",
    "    Values=[]\n",
    "    list=[]\n",
    "\n",
    "    def problem_function(Values, f): \n",
    "        return f(Values[0][0],Values[0][1],Values[0][2],Values[0][3])\n",
    "\n",
    "    for result,count in counts.items(): \n",
    "    \n",
    "        list.append(result)\n",
    "\n",
    "        for i in range(len(list)):\n",
    "            Values.append([int(k) for k in list[i]])\n",
    "\n",
    "        obj = problem_function(Values,f) \n",
    "        avg += obj * count\n",
    "        sum_count += count\n",
    "    \n",
    "    return avg/sum_count \n",
    "\n",
    "\n",
    "def get_expectation(f,variables, permutations, shots=512):\n",
    "\n",
    "    backend=Aer.get_backend('qasm_simulator')\n",
    "    backend.shots=shots\n",
    "\n",
    "    def run_circuit(theta):\n",
    "        circuit= create_circuit(theta,variables, permutations)\n",
    "        counts=backend.run(circuit, seed_simulator=10, nshots=shots).result().get_counts() \n",
    "        \n",
    "        return compute_expectation_value(counts, f)\n",
    "    \n",
    "    return run_circuit\n",
    "\n"
   ]
  },
  {
   "cell_type": "code",
   "execution_count": 32,
   "metadata": {},
   "outputs": [
    {
     "name": "stdout",
     "output_type": "stream",
     "text": [
      "     fun: -1.0\n",
      "     jac: array([0., 0.])\n",
      " message: 'Optimization terminated successfully'\n",
      "    nfev: 3\n",
      "     nit: 1\n",
      "    njev: 1\n",
      "  status: 0\n",
      " success: True\n",
      "       x: array([0.08664487, 1.49806053])\n"
     ]
    }
   ],
   "source": [
    "from scipy.optimize import minimize, slsqp\n",
    "\n",
    "\n",
    "def f(x1,x2,x3,x4): \n",
    "    return -x1**2-x2**2-x3**2-x4**2 + 6*(x1*x3+x1*x4+x3*x4+x1*x2) \n",
    "\n",
    "\n",
    "variables={'x1','x2','x3','x4'}\n",
    "permutations={(0,2),(0,3),(2,3),(0,1)}\n",
    "initial=[random.uniform(0, 2*np.pi) for i in range(2)] \n",
    "\n",
    "expectation= get_expectation(f,variables, permutations)\n",
    "\n",
    "\n",
    "res=minimize(expectation, initial, method='slsqp', tol=1e-6) \n",
    "\n",
    "print(res)"
   ]
  },
  {
   "cell_type": "code",
   "execution_count": 13,
   "metadata": {},
   "outputs": [
    {
     "data": {
      "image/png": "[encoded data removed]",
      "text/plain": [
       "<Figure size 1501.48x325.08 with 1 Axes>"
      ]
     },
     "execution_count": 13,
     "metadata": {},
     "output_type": "execute_result"
    }
   ],
   "source": [
    "from qiskit.visualization import plot_histogram \n",
    "\n",
    "backend= Aer.get_backend(\"aer_simulator\")\n",
    "backend_shots=512 \n",
    "theta=[0., 0.]\n",
    "qc_res= create_circuit(theta, variables, permutations)\n",
    "\n",
    "counts=backend.run(qc_res,seed_simulator=10).result().get_counts()\n",
    "\n",
    "#plot_histogram(counts,figsize=(15,12)) \n",
    "qc_res.draw(output='mpl')\n",
    "\n"
   ]
  },
  {
   "cell_type": "code",
   "execution_count": null,
   "metadata": {},
   "outputs": [],
   "source": []
  }
 ],
 "metadata": {
  "kernelspec": {
   "display_name": "base",
   "language": "python",
   "name": "python3"
  },
  "language_info": {
   "codemirror_mode": {
    "name": "ipython",
    "version": 3
   },
   "file_extension": ".py",
   "mimetype": "text/x-python",
   "name": "python",
   "nbconvert_exporter": "python",
   "pygments_lexer": "ipython3",
   "version": "3.8.8"
  },
  "orig_nbformat": 4,
  "vscode": {
   "interpreter": {
    "hash": "02fbba07d9bfb7050fe807f2288fc3f30b5c5c95150610d8a3a0804f101f127b"
   }
  }
 },
 "nbformat": 4,
 "nbformat_minor": 2
}
