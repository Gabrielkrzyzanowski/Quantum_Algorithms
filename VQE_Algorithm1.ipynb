{
 "cells": [
  {
   "cell_type": "code",
   "execution_count": 1,
   "id": "a321ecf5",
   "metadata": {},
   "outputs": [],
   "source": [
    "from qiskit.algorithms import VQE\n",
    "from qiskit.algorithms.optimizers import SLSQP \n",
    "from qiskit.circuit.library import TwoLocal, RealAmplitudes\n",
    "import numpy as np\n",
    "from qiskit import Aer\n",
    "from qiskit.utils import QuantumInstance\n",
    "import random \n",
    "\n",
    "%matplotlib inline"
   ]
  },
  {
   "cell_type": "code",
   "execution_count": 2,
   "id": "5f0d19f7",
   "metadata": {},
   "outputs": [
    {
     "data": {
      "image/png": "[encoded data removed]",
      "text/plain": [
       "<Figure size 267.052x144.48 with 1 Axes>"
      ]
     },
     "execution_count": 2,
     "metadata": {},
     "output_type": "execute_result"
    }
   ],
   "source": [
    "num_qubits = 2\n",
    "seed = 500\n",
    "ansatz = TwoLocal(num_qubits,'ry', 'cz','full',reps=2, insert_barriers=True)\n",
    "opt = SLSQP(maxiter=1000)\n",
    "qi = QuantumInstance(Aer.get_backend('statevector_simulator'), seed_transpiler=seed, seed_simulator=seed)\n",
    "vqe = VQE(ansatz, optimizer=opt , quantum_instance=qi)  \n",
    "\n",
    "ansatz.draw(output='mpl')\n",
    "#print(ansatz)"
   ]
  },
  {
   "cell_type": "code",
   "execution_count": 4,
   "id": "105b161f",
   "metadata": {},
   "outputs": [
    {
     "name": "stdout",
     "output_type": "stream",
     "text": [
      "{   'aux_operator_eigenvalues': None,\n",
      "    'cost_function_evals': 65,\n",
      "    'eigenstate': array([ 0.74936974+0.j, -0.50596536+0.j, -0.30197387+0.j, -0.3020858 +0.j]),\n",
      "    'eigenvalue': (-5.4435828936177355+0j),\n",
      "    'optimal_parameters': {   ParameterVectorElement(θ[3]): 0.17085698057570942,\n",
      "                              ParameterVectorElement(θ[4]): -4.693868401382227,\n",
      "                              ParameterVectorElement(θ[1]): -5.21067697400562,\n",
      "                              ParameterVectorElement(θ[0]): 1.073297405190078,\n",
      "                              ParameterVectorElement(θ[2]): 2.0036162452378354,\n",
      "                              ParameterVectorElement(θ[5]): -5.599697522327647},\n",
      "    'optimal_point': array([ 1.07329741, -5.21067697,  2.00361625,  0.17085698, -4.6938684 ,\n",
      "       -5.59969752]),\n",
      "    'optimal_value': -5.4435828936177355,\n",
      "    'optimizer_evals': None,\n",
      "    'optimizer_time': 0.39223694801330566}\n"
     ]
    }
   ],
   "source": [
    "from qiskit.opflow import X, Z, I, Y\n",
    "\n",
    "H2_op = (-1 * I ^ I) + (1.5 * X ^ I) + (3.0 * I ^ X) + (-1.5 * Y ^ Y) + (1.5 * X ^ X) + (1.5 * X ^ Z) \n",
    "\n",
    "result = vqe.compute_minimum_eigenvalue(H2_op)\n",
    "print(result)"
   ]
  },
  {
   "cell_type": "code",
   "execution_count": 86,
   "id": "5b038390",
   "metadata": {},
   "outputs": [
    {
     "name": "stdout",
     "output_type": "stream",
     "text": [
      "{   'aux_operator_eigenvalues': None,\n",
      "    'cost_function_evals': 50,\n",
      "    'eigenstate': array([ 9.41390727e-06+0.j,  9.93399274e-01+0.j, -1.14707796e-01+0.j,\n",
      "       -5.62736454e-05+0.j]),\n",
      "    'eigenvalue': (-1.851199104860918+0j),\n",
      "    'optimal_parameters': {   ParameterVectorElement(θ[1]): 3.852167543527636,\n",
      "                              ParameterVectorElement(θ[2]): 5.454746965784284,\n",
      "                              ParameterVectorElement(θ[3]): 2.8618977953636584,\n",
      "                              ParameterVectorElement(θ[4]): -1.3388470764906713,\n",
      "                              ParameterVectorElement(θ[5]): 5.683742430785892,\n",
      "                              ParameterVectorElement(θ[0]): 1.1384085963300898},\n",
      "    'optimal_point': array([ 1.1384086 ,  3.85216754,  5.45474697,  2.8618978 , -1.33884708,\n",
      "        5.68374243]),\n",
      "    'optimal_value': -1.851199104860918,\n",
      "    'optimizer_evals': None,\n",
      "    'optimizer_time': 0.22699952125549316}\n"
     ]
    }
   ],
   "source": [
    "g0 = -0.4804\n",
    "g1 = +0.3435\n",
    "g2 = -0.4347\n",
    "g3 = +0.5716\n",
    "g4 = +0.0910\n",
    "g5 = +0.0910 \n",
    "\n",
    "H_mol= (g0*I^I)+(g1*I^Z)+(g2*Z^I)+(g3*Z^Z)+(g4*Y^Y)+(g5*X^X) \n",
    "result2 = vqe.compute_minimum_eigenvalue(H_mol)\n",
    "print(result2)"
   ]
  },
  {
   "cell_type": "code",
   "execution_count": 71,
   "id": "8c3361a3",
   "metadata": {},
   "outputs": [
    {
     "data": {
      "image/png": "[encoded data removed]",
      "text/plain": [
       "<Figure size 1230.4x264.88 with 1 Axes>"
      ]
     },
     "execution_count": 71,
     "metadata": {},
     "output_type": "execute_result"
    }
   ],
   "source": [
    "num_qubits = 4\n",
    "seed = 1000\n",
    "ansatz = TwoLocal(num_qubits,'ry', 'cz','full',reps=2, insert_barriers=True)\n",
    "initial=[random.uniform(2*np.pi, 3*np.pi) for i in range(12)]\n",
    "#ansatz = RealAmplitudes(4, entanglement='full', reps=2, insert_barriers=True)\n",
    "opt = SLSQP(maxiter=1000)\n",
    "qi = QuantumInstance(Aer.get_backend('statevector_simulator'), shots=5000, seed_transpiler=seed, seed_simulator=seed)\n",
    "vqe = VQE(ansatz, optimizer=opt , quantum_instance=qi, initial_point=initial)  \n",
    "\n",
    "ansatz.decompose().draw(output='mpl')"
   ]
  },
  {
   "cell_type": "code",
   "execution_count": 72,
   "id": "9b8adf2b",
   "metadata": {},
   "outputs": [
    {
     "name": "stdout",
     "output_type": "stream",
     "text": [
      "{   'aux_operator_eigenvalues': None,\n",
      "    'cost_function_evals': 319,\n",
      "    'eigenstate': array([ 9.84663472e-05+0.j, -2.49657555e-04+0.j, -7.82863153e-04+0.j,\n",
      "        4.18888534e-04+0.j, -2.49045806e-05+0.j,  9.99799419e-01+0.j,\n",
      "       -2.00013544e-02+0.j,  2.82091711e-05+0.j,  4.09553698e-04+0.j,\n",
      "        1.15796488e-04+0.j, -7.49948538e-05-0.j, -1.32603549e-05+0.j,\n",
      "       -1.26057961e-04+0.j, -4.96983089e-05+0.j,  2.92607884e-05+0.j,\n",
      "        8.86407420e-07+0.j]),\n",
      "    'eigenvalue': (-1.9999978311304958+0j),\n",
      "    'optimal_parameters': {   ParameterVectorElement(θ[3]): 6.27760424341657,\n",
      "                              ParameterVectorElement(θ[5]): 9.427066223544816,\n",
      "                              ParameterVectorElement(θ[6]): 9.61506187845416,\n",
      "                              ParameterVectorElement(θ[7]): 9.423539497781672,\n",
      "                              ParameterVectorElement(θ[10]): 8.659382890874912,\n",
      "                              ParameterVectorElement(θ[2]): 8.684528443929803,\n",
      "                              ParameterVectorElement(θ[11]): 9.419002794335277,\n",
      "                              ParameterVectorElement(θ[0]): 7.887457920106926,\n",
      "                              ParameterVectorElement(θ[1]): 6.091501942227608,\n",
      "                              ParameterVectorElement(θ[4]): 9.148323318467007,\n",
      "                              ParameterVectorElement(θ[8]): 8.086209008305662,\n",
      "                              ParameterVectorElement(θ[9]): 9.237375041084372},\n",
      "    'optimal_point': array([7.88745792, 6.09150194, 8.68452844, 6.27760424, 9.14832332,\n",
      "       9.42706622, 9.61506188, 9.4235395 , 8.08620901, 9.23737504,\n",
      "       8.65938289, 9.41900279]),\n",
      "    'optimal_value': -1.9999978311304958,\n",
      "    'optimizer_evals': None,\n",
      "    'optimizer_time': 1.4995760917663574}\n"
     ]
    }
   ],
   "source": [
    "from qiskit.opflow import X, Z, I, Y \n",
    "\n",
    "Ham= 4*(I^I^I^I)-4*(Z^I^I^I)-(I^Z^I^I)-(5/2)*(I^I^Z^I)-(5/2)*(I^I^I^Z)+(6/4)*(Z^Z^I^I)+(6/4)*(Z^I^I^Z)+(6/4)*(I^I^Z^Z)+(6/4)*(Z^I^Z^I) \n",
    "\n",
    "result2 = vqe.compute_minimum_eigenvalue(Ham)\n",
    "print(result2)\n"
   ]
  },
  {
   "attachments": {},
   "cell_type": "markdown",
   "id": "7f3d9bdb",
   "metadata": {},
   "source": [
    "## Some Hamiltonians to solve QUBO problems "
   ]
  },
  {
   "cell_type": "code",
   "execution_count": 17,
   "id": "b08a0439",
   "metadata": {},
   "outputs": [],
   "source": [
    "from qiskit.opflow import Z, I  \n",
    "\n",
    "Ham_1= (3/2)*(I ^ I) - (1/2)*(Z ^ I) - (I ^ Z) \n",
    "Ham_2= (1/2)*(I ^ I) + (Z ^ I) + (1/2)*(I ^ Z) - 2*(Z ^ Z)\n",
    "Ham_3= (7/4)*(I ^ I) -(5/4)*(Z ^ I) -(5/4)*(I ^ Z) + (3/4)*(Z ^ Z)"
   ]
  },
  {
   "cell_type": "code",
   "execution_count": 12,
   "id": "b0c10535",
   "metadata": {},
   "outputs": [
    {
     "data": {
      "image/png": "[encoded data removed]",
      "text/plain": [
       "<Figure size 628.252x144.48 with 1 Axes>"
      ]
     },
     "execution_count": 12,
     "metadata": {},
     "output_type": "execute_result"
    }
   ],
   "source": [
    "num_qubits = 2\n",
    "seed = 1000\n",
    "ansatz = TwoLocal(num_qubits,'ry', 'cz','full',reps=2, insert_barriers=True)\n",
    "initial=[random.uniform(2*np.pi, 3*np.pi) for i in range(6)]\n",
    "#ansatz = RealAmplitudes(4, entanglement='full', reps=2, insert_barriers=True)\n",
    "opt = SLSQP(maxiter=1000)\n",
    "qi = QuantumInstance(Aer.get_backend('statevector_simulator'), shots=5000, seed_transpiler=seed, seed_simulator=seed)\n",
    "vqe = VQE(ansatz, optimizer=opt , quantum_instance=qi, initial_point=initial)  \n",
    "\n",
    "ansatz.decompose().draw(output='mpl')"
   ]
  },
  {
   "cell_type": "code",
   "execution_count": 16,
   "id": "1bc50e92",
   "metadata": {},
   "outputs": [
    {
     "name": "stdout",
     "output_type": "stream",
     "text": [
      "{   'aux_operator_eigenvalues': None,\n",
      "    'cost_function_evals': 57,\n",
      "    'eigenstate': array([-9.99999998e-01+0.j,  7.93292843e-06+0.j,  6.08203639e-05+0.j,\n",
      "        1.36476436e-05+0.j]),\n",
      "    'eigenvalue': (4.383753896e-09+0j),\n",
      "    'optimal_parameters': {   ParameterVectorElement(θ[4]): 8.385467695811846,\n",
      "                              ParameterVectorElement(θ[0]): 6.901626705169905,\n",
      "                              ParameterVectorElement(θ[1]): 7.07200892062218,\n",
      "                              ParameterVectorElement(θ[2]): 7.978828081832021,\n",
      "                              ParameterVectorElement(θ[3]): 8.469140030744837,\n",
      "                              ParameterVectorElement(θ[5]): 8.927188285633383},\n",
      "    'optimal_point': array([6.90162671, 7.07200892, 7.97882808, 8.46914003, 8.3854677 ,\n",
      "       8.92718829]),\n",
      "    'optimal_value': 4.383753896e-09,\n",
      "    'optimizer_evals': None,\n",
      "    'optimizer_time': 0.39636731147766113}\n"
     ]
    }
   ],
   "source": [
    "result_Ham_1 = vqe.compute_minimum_eigenvalue(Ham_1)\n",
    "print(result_Ham_1)"
   ]
  },
  {
   "cell_type": "code",
   "execution_count": 18,
   "id": "ce52d2f0",
   "metadata": {},
   "outputs": [
    {
     "name": "stdout",
     "output_type": "stream",
     "text": [
      "{   'aux_operator_eigenvalues': None,\n",
      "    'cost_function_evals': 52,\n",
      "    'eigenstate': array([ 2.75429587e-04+0.j,  2.97221070e-05+0.j,  1.43803224e-04+0.j,\n",
      "       -9.99999951e-01+0.j]),\n",
      "    'eigenvalue': (-2.9999996637183686+0j),\n",
      "    'optimal_parameters': {   ParameterVectorElement(θ[4]): 7.062502605863906,\n",
      "                              ParameterVectorElement(θ[0]): 7.430674629771328,\n",
      "                              ParameterVectorElement(θ[1]): 6.747010079131714,\n",
      "                              ParameterVectorElement(θ[2]): 8.997768451657222,\n",
      "                              ParameterVectorElement(θ[3]): 9.6924277474749,\n",
      "                              ParameterVectorElement(θ[5]): 6.9032008362292165},\n",
      "    'optimal_point': array([7.43067463, 6.74701008, 8.99776845, 9.69242775, 7.06250261,\n",
      "       6.90320084]),\n",
      "    'optimal_value': -2.9999996637183686,\n",
      "    'optimizer_evals': None,\n",
      "    'optimizer_time': 0.30664825439453125}\n"
     ]
    }
   ],
   "source": [
    "result_Ham_2 = vqe.compute_minimum_eigenvalue(Ham_2)\n",
    "print(result_Ham_2)"
   ]
  },
  {
   "cell_type": "code",
   "execution_count": 8,
   "id": "c7921902",
   "metadata": {},
   "outputs": [
    {
     "name": "stdout",
     "output_type": "stream",
     "text": [
      "{   'aux_operator_eigenvalues': None,\n",
      "    'cost_function_evals': 42,\n",
      "    'eigenstate': array([-9.99999817e-01+0.j,  3.27097968e-04+0.j, -5.03655684e-04-0.j,\n",
      "       -6.96624327e-05+0.j]),\n",
      "    'eigenvalue': (3.84926401621e-07+0j),\n",
      "    'optimal_parameters': {   ParameterVectorElement(θ[5]): 8.295358013229722,\n",
      "                              ParameterVectorElement(θ[0]): 7.236940032588425,\n",
      "                              ParameterVectorElement(θ[1]): 7.908154487604366,\n",
      "                              ParameterVectorElement(θ[2]): 7.0820920654226756,\n",
      "                              ParameterVectorElement(θ[3]): 8.50631108305926,\n",
      "                              ParameterVectorElement(θ[4]): 7.403032473585277},\n",
      "    'optimal_point': array([7.23694003, 7.90815449, 7.08209207, 8.50631108, 7.40303247,\n",
      "       8.29535801]),\n",
      "    'optimal_value': 3.84926401621e-07,\n",
      "    'optimizer_evals': None,\n",
      "    'optimizer_time': 0.33675169944763184}\n"
     ]
    }
   ],
   "source": [
    "result_Ham_3 = vqe.compute_minimum_eigenvalue(Ham_3)\n",
    "print(result_Ham_3)"
   ]
  },
  {
   "cell_type": "code",
   "execution_count": null,
   "id": "989f4f34",
   "metadata": {},
   "outputs": [],
   "source": []
  }
 ],
 "metadata": {
  "kernelspec": {
   "display_name": "Python 3.8.8 ('base')",
   "language": "python",
   "name": "python3"
  },
  "language_info": {
   "codemirror_mode": {
    "name": "ipython",
    "version": 3
   },
   "file_extension": ".py",
   "mimetype": "text/x-python",
   "name": "python",
   "nbconvert_exporter": "python",
   "pygments_lexer": "ipython3",
   "version": "3.8.8"
  },
  "vscode": {
   "interpreter": {
    "hash": "02fbba07d9bfb7050fe807f2288fc3f30b5c5c95150610d8a3a0804f101f127b"
   }
  }
 },
 "nbformat": 4,
 "nbformat_minor": 5
}
